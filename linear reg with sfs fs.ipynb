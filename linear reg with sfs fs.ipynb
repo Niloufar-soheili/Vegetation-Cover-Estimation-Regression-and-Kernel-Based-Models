{
 "cells": [
  {
   "cell_type": "code",
   "execution_count": 1,
   "id": "0d045521",
   "metadata": {},
   "outputs": [],
   "source": [
    "import numpy as np\n",
    "import matplotlib.pyplot as plt\n",
    "from scipy.io import loadmat\n",
    "from sklearn.model_selection import train_test_split\n",
    "import pandas as pd\n",
    "from sklearn import preprocessing\n",
    "from sklearn.preprocessing import MinMaxScaler\n",
    "from sklearn.svm import SVR\n",
    "from sklearn.preprocessing import StandardScaler\n",
    "from sklearn.linear_model import LinearRegression\n",
    "\n",
    "from sklearn.metrics import mean_squared_error, r2_score\n",
    "from math import sqrt\n",
    "import tensorflow as tf\n",
    "import os\n",
    "\n",
    "from mlxtend.feature_selection import SequentialFeatureSelector as SFS\n",
    "from mlxtend.plotting import plot_sequential_feature_selection as plot_sfs\n",
    "from sklearn.model_selection import train_test_split\n"
   ]
  },
  {
   "cell_type": "code",
   "execution_count": 2,
   "id": "b96ab1f6",
   "metadata": {},
   "outputs": [],
   "source": [
    "# Importing the Data                                           Shape\n",
    "\n",
    "hyperberlinnn = loadmat('hyperberlinnn.mat')                      \n",
    "ch_data = hyperberlinnn['InputImage1D']                     #(90000*114)\n",
    "ch_result = hyperberlinnn['GroundTruthImage1D']             #(90000*1)\n",
    "Tr_data = hyperberlinnn['Train']                            #(300*300)\n",
    "Tr_result = hyperberlinnn['Train1D']                        #(90000*1)\n",
    "groundTruth = hyperberlinnn['GroundTruth']"
   ]
  },
  {
   "cell_type": "code",
   "execution_count": 3,
   "id": "ff44dddf",
   "metadata": {},
   "outputs": [
    {
     "name": "stdout",
     "output_type": "stream",
     "text": [
      "(62999, 114) (27000, 114) (62999, 1) (27000, 1)\n"
     ]
    }
   ],
   "source": [
    "# Standardization\n",
    "# Split into train (2/3) and test (1/3) sets\n",
    "\n",
    "image1 = StandardScaler().fit_transform(ch_data)\n",
    "image2 = StandardScaler().fit_transform(ch_result)\n",
    "X_train, X_test, y_train, y_test = train_test_split(image1 , image2 , test_size = 0.30 , train_size = 0.70 , random_state = 42)\n",
    "print(np.shape(X_train),np.shape(X_test),np.shape(y_train),np.shape(y_test))\n",
    "\n"
   ]
  },
  {
   "cell_type": "code",
   "execution_count": 4,
   "id": "220e74bf",
   "metadata": {},
   "outputs": [
    {
     "data": {
      "image/png": "[encoded data removed]",
      "text/plain": [
       "<Figure size 432x288 with 1 Axes>"
      ]
     },
     "metadata": {
      "needs_background": "light"
     },
     "output_type": "display_data"
    }
   ],
   "source": [
    "\n",
    "lr = LinearRegression()\n",
    "\n",
    "sfs = SFS(lr, \n",
    "          k_features=13, \n",
    "          forward=True, \n",
    "          floating=False, \n",
    "          scoring= 'neg_mean_squared_error',\n",
    "          cv=10)\n",
    "\n",
    "sfs = sfs.fit(X_train, y_train)\n",
    "fig = plot_sfs(sfs.get_metric_dict(), kind='std_err')\n",
    "\n",
    "plt.title('Sequential Forward Selection')\n",
    "plt.grid()\n",
    "plt.show()\n",
    "\n",
    "\n"
   ]
  },
  {
   "cell_type": "code",
   "execution_count": 5,
   "id": "82c23bde",
   "metadata": {},
   "outputs": [
    {
     "data": {
      "text/plain": [
       "-0.19959821766016156"
      ]
     },
     "execution_count": 5,
     "metadata": {},
     "output_type": "execute_result"
    }
   ],
   "source": [
    "sfs.k_score_"
   ]
  },
  {
   "cell_type": "code",
   "execution_count": 6,
   "id": "2a2b40dd",
   "metadata": {},
   "outputs": [
    {
     "data": {
      "text/html": [
       "<div>\n",
       "<style scoped>\n",
       "    .dataframe tbody tr th:only-of-type {\n",
       "        vertical-align: middle;\n",
       "    }\n",
       "\n",
       "    .dataframe tbody tr th {\n",
       "        vertical-align: top;\n",
       "    }\n",
       "\n",
       "    .dataframe thead th {\n",
       "        text-align: right;\n",
       "    }\n",
       "</style>\n",
       "<table border=\"1\" class=\"dataframe\">\n",
       "  <thead>\n",
       "    <tr style=\"text-align: right;\">\n",
       "      <th></th>\n",
       "      <th>feature_idx</th>\n",
       "      <th>cv_scores</th>\n",
       "      <th>avg_score</th>\n",
       "      <th>feature_names</th>\n",
       "      <th>ci_bound</th>\n",
       "      <th>std_dev</th>\n",
       "      <th>std_err</th>\n",
       "    </tr>\n",
       "  </thead>\n",
       "  <tbody>\n",
       "    <tr>\n",
       "      <th>1</th>\n",
       "      <td>(86,)</td>\n",
       "      <td>[-0.4349105930934966, -0.458511225851396, -0.4...</td>\n",
       "      <td>-0.440213</td>\n",
       "      <td>(86,)</td>\n",
       "      <td>0.009809</td>\n",
       "      <td>0.013207</td>\n",
       "      <td>0.004402</td>\n",
       "    </tr>\n",
       "    <tr>\n",
       "      <th>2</th>\n",
       "      <td>(86, 101)</td>\n",
       "      <td>[-0.344083561556546, -0.35359226035270824, -0....</td>\n",
       "      <td>-0.332961</td>\n",
       "      <td>(86, 101)</td>\n",
       "      <td>0.011512</td>\n",
       "      <td>0.015499</td>\n",
       "      <td>0.005166</td>\n",
       "    </tr>\n",
       "    <tr>\n",
       "      <th>3</th>\n",
       "      <td>(86, 87, 101)</td>\n",
       "      <td>[-0.3254234762286019, -0.33000115250993933, -0...</td>\n",
       "      <td>-0.318047</td>\n",
       "      <td>(86, 87, 101)</td>\n",
       "      <td>0.009193</td>\n",
       "      <td>0.012377</td>\n",
       "      <td>0.004126</td>\n",
       "    </tr>\n",
       "    <tr>\n",
       "      <th>4</th>\n",
       "      <td>(86, 87, 88, 101)</td>\n",
       "      <td>[-0.3142681762548441, -0.3136108852781329, -0....</td>\n",
       "      <td>-0.297178</td>\n",
       "      <td>(86, 87, 88, 101)</td>\n",
       "      <td>0.009762</td>\n",
       "      <td>0.013144</td>\n",
       "      <td>0.004381</td>\n",
       "    </tr>\n",
       "    <tr>\n",
       "      <th>5</th>\n",
       "      <td>(61, 86, 87, 88, 101)</td>\n",
       "      <td>[-0.30006316059680377, -0.29839911403813296, -...</td>\n",
       "      <td>-0.286853</td>\n",
       "      <td>(61, 86, 87, 88, 101)</td>\n",
       "      <td>0.0082</td>\n",
       "      <td>0.011041</td>\n",
       "      <td>0.00368</td>\n",
       "    </tr>\n",
       "    <tr>\n",
       "      <th>6</th>\n",
       "      <td>(61, 86, 87, 88, 94, 101)</td>\n",
       "      <td>[-0.28818532102865285, -0.2769420190838992, -0...</td>\n",
       "      <td>-0.268965</td>\n",
       "      <td>(61, 86, 87, 88, 94, 101)</td>\n",
       "      <td>0.00939</td>\n",
       "      <td>0.012643</td>\n",
       "      <td>0.004214</td>\n",
       "    </tr>\n",
       "    <tr>\n",
       "      <th>7</th>\n",
       "      <td>(61, 86, 87, 88, 94, 95, 101)</td>\n",
       "      <td>[-0.2621757564918251, -0.25491346009664906, -0...</td>\n",
       "      <td>-0.250597</td>\n",
       "      <td>(61, 86, 87, 88, 94, 95, 101)</td>\n",
       "      <td>0.005832</td>\n",
       "      <td>0.007853</td>\n",
       "      <td>0.002618</td>\n",
       "    </tr>\n",
       "    <tr>\n",
       "      <th>8</th>\n",
       "      <td>(61, 86, 87, 88, 93, 94, 95, 101)</td>\n",
       "      <td>[-0.2416918075768204, -0.23856594652067556, -0...</td>\n",
       "      <td>-0.234574</td>\n",
       "      <td>(61, 86, 87, 88, 93, 94, 95, 101)</td>\n",
       "      <td>0.004349</td>\n",
       "      <td>0.005856</td>\n",
       "      <td>0.001952</td>\n",
       "    </tr>\n",
       "    <tr>\n",
       "      <th>9</th>\n",
       "      <td>(0, 61, 86, 87, 88, 93, 94, 95, 101)</td>\n",
       "      <td>[-0.231497398302185, -0.22937475779077965, -0....</td>\n",
       "      <td>-0.219416</td>\n",
       "      <td>(0, 61, 86, 87, 88, 93, 94, 95, 101)</td>\n",
       "      <td>0.005847</td>\n",
       "      <td>0.007873</td>\n",
       "      <td>0.002624</td>\n",
       "    </tr>\n",
       "    <tr>\n",
       "      <th>10</th>\n",
       "      <td>(0, 61, 86, 87, 88, 92, 93, 94, 95, 101)</td>\n",
       "      <td>[-0.22385377625293568, -0.21809178707091922, -...</td>\n",
       "      <td>-0.209722</td>\n",
       "      <td>(0, 61, 86, 87, 88, 92, 93, 94, 95, 101)</td>\n",
       "      <td>0.005905</td>\n",
       "      <td>0.007951</td>\n",
       "      <td>0.00265</td>\n",
       "    </tr>\n",
       "    <tr>\n",
       "      <th>11</th>\n",
       "      <td>(0, 61, 86, 87, 88, 92, 93, 94, 95, 96, 101)</td>\n",
       "      <td>[-0.22088575643535205, -0.21285662551059595, -...</td>\n",
       "      <td>-0.205705</td>\n",
       "      <td>(0, 61, 86, 87, 88, 92, 93, 94, 95, 96, 101)</td>\n",
       "      <td>0.006417</td>\n",
       "      <td>0.00864</td>\n",
       "      <td>0.00288</td>\n",
       "    </tr>\n",
       "    <tr>\n",
       "      <th>12</th>\n",
       "      <td>(0, 6, 61, 86, 87, 88, 92, 93, 94, 95, 96, 101)</td>\n",
       "      <td>[-0.2176085951527267, -0.20820829529485985, -0...</td>\n",
       "      <td>-0.202225</td>\n",
       "      <td>(0, 6, 61, 86, 87, 88, 92, 93, 94, 95, 96, 101)</td>\n",
       "      <td>0.006459</td>\n",
       "      <td>0.008696</td>\n",
       "      <td>0.002899</td>\n",
       "    </tr>\n",
       "    <tr>\n",
       "      <th>13</th>\n",
       "      <td>(0, 4, 6, 61, 86, 87, 88, 92, 93, 94, 95, 96, ...</td>\n",
       "      <td>[-0.21430148254803139, -0.20548558147273796, -...</td>\n",
       "      <td>-0.199598</td>\n",
       "      <td>(0, 4, 6, 61, 86, 87, 88, 92, 93, 94, 95, 96, ...</td>\n",
       "      <td>0.00616</td>\n",
       "      <td>0.008294</td>\n",
       "      <td>0.002765</td>\n",
       "    </tr>\n",
       "  </tbody>\n",
       "</table>\n",
       "</div>"
      ],
      "text/plain": [
       "                                          feature_idx  \\\n",
       "1                                               (86,)   \n",
       "2                                           (86, 101)   \n",
       "3                                       (86, 87, 101)   \n",
       "4                                   (86, 87, 88, 101)   \n",
       "5                               (61, 86, 87, 88, 101)   \n",
       "6                           (61, 86, 87, 88, 94, 101)   \n",
       "7                       (61, 86, 87, 88, 94, 95, 101)   \n",
       "8                   (61, 86, 87, 88, 93, 94, 95, 101)   \n",
       "9                (0, 61, 86, 87, 88, 93, 94, 95, 101)   \n",
       "10           (0, 61, 86, 87, 88, 92, 93, 94, 95, 101)   \n",
       "11       (0, 61, 86, 87, 88, 92, 93, 94, 95, 96, 101)   \n",
       "12    (0, 6, 61, 86, 87, 88, 92, 93, 94, 95, 96, 101)   \n",
       "13  (0, 4, 6, 61, 86, 87, 88, 92, 93, 94, 95, 96, ...   \n",
       "\n",
       "                                            cv_scores avg_score  \\\n",
       "1   [-0.4349105930934966, -0.458511225851396, -0.4... -0.440213   \n",
       "2   [-0.344083561556546, -0.35359226035270824, -0.... -0.332961   \n",
       "3   [-0.3254234762286019, -0.33000115250993933, -0... -0.318047   \n",
       "4   [-0.3142681762548441, -0.3136108852781329, -0.... -0.297178   \n",
       "5   [-0.30006316059680377, -0.29839911403813296, -... -0.286853   \n",
       "6   [-0.28818532102865285, -0.2769420190838992, -0... -0.268965   \n",
       "7   [-0.2621757564918251, -0.25491346009664906, -0... -0.250597   \n",
       "8   [-0.2416918075768204, -0.23856594652067556, -0... -0.234574   \n",
       "9   [-0.231497398302185, -0.22937475779077965, -0.... -0.219416   \n",
       "10  [-0.22385377625293568, -0.21809178707091922, -... -0.209722   \n",
       "11  [-0.22088575643535205, -0.21285662551059595, -... -0.205705   \n",
       "12  [-0.2176085951527267, -0.20820829529485985, -0... -0.202225   \n",
       "13  [-0.21430148254803139, -0.20548558147273796, -... -0.199598   \n",
       "\n",
       "                                        feature_names  ci_bound   std_dev  \\\n",
       "1                                               (86,)  0.009809  0.013207   \n",
       "2                                           (86, 101)  0.011512  0.015499   \n",
       "3                                       (86, 87, 101)  0.009193  0.012377   \n",
       "4                                   (86, 87, 88, 101)  0.009762  0.013144   \n",
       "5                               (61, 86, 87, 88, 101)    0.0082  0.011041   \n",
       "6                           (61, 86, 87, 88, 94, 101)   0.00939  0.012643   \n",
       "7                       (61, 86, 87, 88, 94, 95, 101)  0.005832  0.007853   \n",
       "8                   (61, 86, 87, 88, 93, 94, 95, 101)  0.004349  0.005856   \n",
       "9                (0, 61, 86, 87, 88, 93, 94, 95, 101)  0.005847  0.007873   \n",
       "10           (0, 61, 86, 87, 88, 92, 93, 94, 95, 101)  0.005905  0.007951   \n",
       "11       (0, 61, 86, 87, 88, 92, 93, 94, 95, 96, 101)  0.006417   0.00864   \n",
       "12    (0, 6, 61, 86, 87, 88, 92, 93, 94, 95, 96, 101)  0.006459  0.008696   \n",
       "13  (0, 4, 6, 61, 86, 87, 88, 92, 93, 94, 95, 96, ...   0.00616  0.008294   \n",
       "\n",
       "     std_err  \n",
       "1   0.004402  \n",
       "2   0.005166  \n",
       "3   0.004126  \n",
       "4   0.004381  \n",
       "5    0.00368  \n",
       "6   0.004214  \n",
       "7   0.002618  \n",
       "8   0.001952  \n",
       "9   0.002624  \n",
       "10   0.00265  \n",
       "11   0.00288  \n",
       "12  0.002899  \n",
       "13  0.002765  "
      ]
     },
     "execution_count": 6,
     "metadata": {},
     "output_type": "execute_result"
    }
   ],
   "source": [
    "pd.DataFrame.from_dict(sfs.get_metric_dict()).T"
   ]
  },
  {
   "cell_type": "code",
   "execution_count": 7,
   "id": "7b8a9d43",
   "metadata": {},
   "outputs": [
    {
     "data": {
      "text/plain": [
       "(0, 4, 6, 61, 86, 87, 88, 92, 93, 94, 95, 96, 101)"
      ]
     },
     "execution_count": 7,
     "metadata": {},
     "output_type": "execute_result"
    }
   ],
   "source": [
    "sfs.k_feature_idx_\n",
    "\n"
   ]
  },
  {
   "cell_type": "code",
   "execution_count": 8,
   "id": "cab52c05",
   "metadata": {},
   "outputs": [],
   "source": [
    "SFS_FS = [ 0, 4, 6, 61, 86, 87, 88, 92, 93, 94, 95, 96, 101]"
   ]
  },
  {
   "cell_type": "code",
   "execution_count": 9,
   "id": "5a9106e4",
   "metadata": {},
   "outputs": [],
   "source": [
    "\n",
    "X_train = X_train[:,SFS_FS]\n",
    "X_test = X_test[:,SFS_FS]\n",
    "\n",
    "reg = LinearRegression().fit(X_train , y_train )\n",
    "pred_Tr = reg.predict(X_train)\n",
    "pred_Ch = reg.predict(X_test)\n"
   ]
  },
  {
   "cell_type": "code",
   "execution_count": 10,
   "id": "86762f7a",
   "metadata": {},
   "outputs": [
    {
     "name": "stdout",
     "output_type": "stream",
     "text": [
      "RMSE Check = 0.44411150682613465\n",
      "R2 Check = 0.8035222215578959\n",
      "RMSE Train = 0.44628337750941816\n",
      "R2 Train = 0.8005039048322586\n"
     ]
    }
   ],
   "source": [
    "\n",
    "RMSE_Ch = sqrt(mean_squared_error(y_test,pred_Ch))                               #calculate RMSE\n",
    "R2_Ch = r2_score(y_test,pred_Ch)                                                 #calculate R2\n",
    "print('RMSE Check =', RMSE_Ch)\n",
    "print('R2 Check =', R2_Ch)\n",
    "\n",
    "RMSE_Tr = sqrt(mean_squared_error(y_train,pred_Tr))                               #calculate RMSE\n",
    "R2_Tr = r2_score(y_train,pred_Tr)                                                 #calculate R2 \n",
    "print('RMSE Train =', RMSE_Tr)\n",
    "print('R2 Train =', R2_Tr)\n"
   ]
  },
  {
   "cell_type": "code",
   "execution_count": 11,
   "id": "988ef1cf",
   "metadata": {},
   "outputs": [
    {
     "data": {
      "image/png": "[encoded data removed]",
      "text/plain": [
       "<Figure size 432x288 with 1 Axes>"
      ]
     },
     "metadata": {
      "needs_background": "light"
     },
     "output_type": "display_data"
    }
   ],
   "source": [
    "# Plot\n",
    "\n",
    "import matplotlib.pyplot as plt\n",
    "import matplotlib.lines as mlines\n",
    "import matplotlib.transforms as mtransforms\n",
    "from sklearn import metrics\n",
    "import sklearn.metrics, math\n",
    "from sklearn.metrics import r2_score\n",
    "\n",
    "\n",
    "fig, ax = plt.subplots()\n",
    "ax.scatter(y_test, pred_Ch , c='black')\n",
    "line = mlines.Line2D([0, 1], [0, 1], color='red')\n",
    "transform = ax.transAxes\n",
    "line.set_transform(transform)\n",
    "ax.add_line(line)\n",
    "\n",
    "R2_score=r2_score(y_test, pred_Ch)\n",
    "\n",
    "\n",
    "plt.text(-2,2,'RMSE = {:.3f}'.format(RMSE_Ch))\n",
    "plt.text(-2,1.5,'R2  = {:.3f}'.format(R2_Ch))\n",
    "plt.ylabel(\"predict\")\n",
    "plt.xlabel(\"Cheking result\")\n",
    "plt.grid()\n",
    "plt.show()"
   ]
  },
  {
   "cell_type": "code",
   "execution_count": 12,
   "id": "827834d7",
   "metadata": {},
   "outputs": [
    {
     "data": {
      "image/png": "[encoded data removed]",
      "text/plain": [
       "<Figure size 432x288 with 1 Axes>"
      ]
     },
     "metadata": {
      "needs_background": "light"
     },
     "output_type": "display_data"
    }
   ],
   "source": [
    "# Plot\n",
    "\n",
    "import matplotlib.pyplot as plt\n",
    "import matplotlib.lines as mlines\n",
    "import matplotlib.transforms as mtransforms\n",
    "from sklearn import metrics\n",
    "import sklearn.metrics, math\n",
    "from sklearn.metrics import r2_score\n",
    "\n",
    "\n",
    "fig, ax = plt.subplots()\n",
    "ax.scatter( y_train, pred_Tr , c='black')\n",
    "line = mlines.Line2D([0, 1], [0, 1], color='red')\n",
    "transform = ax.transAxes\n",
    "line.set_transform(transform)\n",
    "ax.add_line(line)\n",
    "\n",
    "R2_score=r2_score( y_train, pred_Tr )\n",
    "\n",
    "plt.text(-2,2,'RMSE = {:.3f}'.format(RMSE_Tr))\n",
    "plt.text(-2,1.5,'R2  = {:.3f}'.format(R2_Tr))\n",
    "plt.ylabel(\"predict\")\n",
    "plt.xlabel(\"Training result\")\n",
    "plt.grid()\n",
    "plt.show()"
   ]
  },
  {
   "cell_type": "code",
   "execution_count": null,
   "id": "c8169589",
   "metadata": {},
   "outputs": [],
   "source": []
  }
 ],
 "metadata": {
  "kernelspec": {
   "display_name": "Python 3",
   "language": "python",
   "name": "python3"
  },
  "language_info": {
   "codemirror_mode": {
    "name": "ipython",
    "version": 3
   },
   "file_extension": ".py",
   "mimetype": "text/x-python",
   "name": "python",
   "nbconvert_exporter": "python",
   "pygments_lexer": "ipython3",
   "version": "3.8.8"
  }
 },
 "nbformat": 4,
 "nbformat_minor": 5
}
