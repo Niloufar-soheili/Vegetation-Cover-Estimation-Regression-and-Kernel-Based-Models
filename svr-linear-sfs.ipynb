{
 "cells": [
  {
   "cell_type": "code",
   "execution_count": 1,
   "id": "7150e891",
   "metadata": {},
   "outputs": [],
   "source": [
    "import numpy as np\n",
    "import pandas as pd\n",
    "import matplotlib.pyplot as plt\n",
    "import seaborn as sns\n",
    "\n",
    "import warnings\n",
    "warnings.filterwarnings('ignore')\n",
    "\n",
    "from scipy.io import loadmat\n",
    "from sklearn.model_selection import train_test_split\n",
    "from sklearn import preprocessing\n",
    "from sklearn.preprocessing import MinMaxScaler\n",
    "from sklearn.svm import SVR\n",
    "from sklearn.preprocessing import StandardScaler\n",
    "from sklearn.linear_model import LinearRegression\n",
    "\n",
    "from sklearn.metrics import mean_squared_error, r2_score\n",
    "from math import sqrt\n",
    "from libsvm.svmutil import svm_train, svm_predict\n",
    "import tensorflow as tf\n",
    "import keras\n",
    "import os\n",
    "\n",
    "from sklearn.model_selection import RandomizedSearchCV\n",
    "from sklearn.model_selection import GridSearchCV\n"
   ]
  },
  {
   "cell_type": "code",
   "execution_count": 2,
   "id": "c015b78d",
   "metadata": {},
   "outputs": [],
   "source": [
    "# data                                                            Shape\n",
    "\n",
    "hyperberlinnn = loadmat('hyperberlinnn.mat')                      \n",
    "ch_data = hyperberlinnn['InputImage1D']                     #(90000*114)\n",
    "ch_result = hyperberlinnn['GroundTruthImage1D']             #(90000*1)\n",
    "Tr_data = hyperberlinnn['Train']                            #(300*300)\n",
    "Tr_result = hyperberlinnn['Train1D']                        #(90000*1)\n",
    "groundTruth = hyperberlinnn['GroundTruth']"
   ]
  },
  {
   "cell_type": "code",
   "execution_count": 3,
   "id": "7035c680",
   "metadata": {},
   "outputs": [
    {
     "name": "stdout",
     "output_type": "stream",
     "text": [
      "(62999, 114) (27000, 114) (62999, 1) (27000, 1)\n"
     ]
    }
   ],
   "source": [
    "# Train and Test(per class) and standardization\n",
    "\n",
    "from sklearn.preprocessing import StandardScaler, MinMaxScaler\n",
    "from sklearn.model_selection import train_test_split\n",
    "\n",
    "image1 = StandardScaler().fit_transform(ch_data)\n",
    "image2 = StandardScaler().fit_transform(ch_result)\n",
    "\n",
    "\n",
    "X_train, X_test, y_train, y_test = train_test_split(image1 , image2 , test_size = 0.30 , train_size = 0.70 , random_state = 42)\n",
    "\n",
    "print(np.shape(X_train),np.shape(X_test),np.shape(y_train),np.shape(y_test))\n"
   ]
  },
  {
   "cell_type": "code",
   "execution_count": 4,
   "id": "52db617c",
   "metadata": {},
   "outputs": [],
   "source": [
    "# sequential forward Feature Selection\n",
    "#sfs was obtained in the previous stage of the project\n",
    "\n",
    "SFS_FS = [ 0, 4, 6, 61, 86, 87, 88, 92, 93, 94, 95, 96, 101]\n",
    "\n",
    "\n",
    "X_train = X_train[:,SFS_FS]\n",
    "X_test = X_test[:,SFS_FS]"
   ]
  },
  {
   "cell_type": "code",
   "execution_count": 5,
   "id": "cec0fe51",
   "metadata": {},
   "outputs": [
    {
     "data": {
      "text/plain": [
       "GridSearchCV(cv=2, estimator=SVR(),\n",
       "             param_grid={'C': [0.1, 1, 10], 'epsilon': [0.1, 0.3, 1.5],\n",
       "                         'kernel': ['linear']},\n",
       "             verbose=3)"
      ]
     },
     "execution_count": 5,
     "metadata": {},
     "output_type": "execute_result"
    }
   ],
   "source": [
    "# Fitting SVM regression \n",
    "# kernel Linear\n",
    "\n",
    "my_param_grid = {'C': [0.1,1,10], 'epsilon': [0.1,0.3,1.5], 'kernel': ['linear']} \n",
    "\n",
    "from sklearn.model_selection import GridSearchCV\n",
    "\n",
    "GridSearchCV(estimator=SVR(),param_grid= my_param_grid, refit = True, verbose=3, cv=2 )\n",
    "\n"
   ]
  },
  {
   "cell_type": "code",
   "execution_count": 6,
   "id": "8f4bbdc2",
   "metadata": {},
   "outputs": [],
   "source": [
    "grid = GridSearchCV(estimator=SVR(),param_grid= my_param_grid, refit = True, verbose=2, cv=2 )\n",
    "# verbose just means the text output describing the process. (the greater the number the more detail you will get).\n"
   ]
  },
  {
   "cell_type": "code",
   "execution_count": 7,
   "id": "dceb4e06",
   "metadata": {},
   "outputs": [
    {
     "name": "stdout",
     "output_type": "stream",
     "text": [
      "Fitting 2 folds for each of 9 candidates, totalling 18 fits\n",
      "[CV] END ..................C=0.1, epsilon=0.1, kernel=linear; total time= 2.1min\n",
      "[CV] END ..................C=0.1, epsilon=0.1, kernel=linear; total time= 1.9min\n",
      "[CV] END ..................C=0.1, epsilon=0.3, kernel=linear; total time= 1.3min\n",
      "[CV] END ..................C=0.1, epsilon=0.3, kernel=linear; total time= 1.3min\n",
      "[CV] END ..................C=0.1, epsilon=1.5, kernel=linear; total time=   0.0s\n",
      "[CV] END ..................C=0.1, epsilon=1.5, kernel=linear; total time=   0.0s\n",
      "[CV] END ....................C=1, epsilon=0.1, kernel=linear; total time= 5.2min\n",
      "[CV] END ....................C=1, epsilon=0.1, kernel=linear; total time= 6.1min\n",
      "[CV] END ....................C=1, epsilon=0.3, kernel=linear; total time= 4.0min\n",
      "[CV] END ....................C=1, epsilon=0.3, kernel=linear; total time= 4.3min\n",
      "[CV] END ....................C=1, epsilon=1.5, kernel=linear; total time=   0.0s\n",
      "[CV] END ....................C=1, epsilon=1.5, kernel=linear; total time=   0.0s\n",
      "[CV] END ...................C=10, epsilon=0.1, kernel=linear; total time=43.2min\n",
      "[CV] END ...................C=10, epsilon=0.1, kernel=linear; total time=38.1min\n",
      "[CV] END ...................C=10, epsilon=0.3, kernel=linear; total time=28.4min\n",
      "[CV] END ...................C=10, epsilon=0.3, kernel=linear; total time=26.4min\n",
      "[CV] END ...................C=10, epsilon=1.5, kernel=linear; total time=   0.0s\n",
      "[CV] END ...................C=10, epsilon=1.5, kernel=linear; total time=   0.0s\n"
     ]
    },
    {
     "data": {
      "text/plain": [
       "GridSearchCV(cv=2, estimator=SVR(),\n",
       "             param_grid={'C': [0.1, 1, 10], 'epsilon': [0.1, 0.3, 1.5],\n",
       "                         'kernel': ['linear']},\n",
       "             verbose=2)"
      ]
     },
     "execution_count": 7,
     "metadata": {},
     "output_type": "execute_result"
    }
   ],
   "source": [
    "grid.fit(X_train,y_train)"
   ]
  },
  {
   "cell_type": "code",
   "execution_count": 8,
   "id": "eebc2141",
   "metadata": {},
   "outputs": [
    {
     "data": {
      "text/plain": [
       "{'C': 10, 'epsilon': 0.1, 'kernel': 'linear'}"
      ]
     },
     "execution_count": 8,
     "metadata": {},
     "output_type": "execute_result"
    }
   ],
   "source": [
    "grid.best_params_"
   ]
  },
  {
   "cell_type": "code",
   "execution_count": 9,
   "id": "eeb3dda1",
   "metadata": {},
   "outputs": [
    {
     "data": {
      "text/plain": [
       "SVR(C=10, kernel='linear')"
      ]
     },
     "execution_count": 9,
     "metadata": {},
     "output_type": "execute_result"
    }
   ],
   "source": [
    "grid.best_estimator_"
   ]
  },
  {
   "cell_type": "code",
   "execution_count": 10,
   "id": "852b22ea",
   "metadata": {},
   "outputs": [
    {
     "data": {
      "text/plain": [
       "0.7876365663702285"
      ]
     },
     "execution_count": 10,
     "metadata": {},
     "output_type": "execute_result"
    }
   ],
   "source": [
    "grid.score(X_test, y_test)"
   ]
  },
  {
   "cell_type": "code",
   "execution_count": 11,
   "id": "e657910e",
   "metadata": {},
   "outputs": [
    {
     "name": "stdout",
     "output_type": "stream",
     "text": [
      "0.4606687183441131\n",
      "0.7874356533911248\n",
      "0.4617162669394508\n",
      "0.7876365663702285\n"
     ]
    }
   ],
   "source": [
    "#RMSE & R2 train\n",
    "\n",
    "predict_train= grid.predict(X_train)\n",
    "print(np.sqrt(mean_squared_error(y_train,predict_train)))\n",
    "print(r2_score(y_train,predict_train))\n",
    "\n",
    "#RMSE & R2 test\n",
    "\n",
    "predict_test= grid.predict(X_test)\n",
    "print(np.sqrt(mean_squared_error(y_test,predict_test))) \n",
    "print(r2_score(y_test, predict_test))"
   ]
  }
 ],
 "metadata": {
  "kernelspec": {
   "display_name": "Python 3",
   "language": "python",
   "name": "python3"
  },
  "language_info": {
   "codemirror_mode": {
    "name": "ipython",
    "version": 3
   },
   "file_extension": ".py",
   "mimetype": "text/x-python",
   "name": "python",
   "nbconvert_exporter": "python",
   "pygments_lexer": "ipython3",
   "version": "3.8.8"
  }
 },
 "nbformat": 4,
 "nbformat_minor": 5
}
