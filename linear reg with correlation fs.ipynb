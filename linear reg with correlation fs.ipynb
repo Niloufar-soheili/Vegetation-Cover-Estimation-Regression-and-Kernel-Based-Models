{
 "cells": [
  {
   "cell_type": "code",
   "execution_count": 1,
   "id": "34c6877e",
   "metadata": {},
   "outputs": [],
   "source": [
    "import numpy as np\n",
    "import matplotlib.pyplot as plt\n",
    "from scipy.io import loadmat\n",
    "from sklearn.model_selection import train_test_split\n",
    "import pandas as pd\n",
    "from sklearn import preprocessing\n",
    "from sklearn.preprocessing import MinMaxScaler\n",
    "from sklearn.svm import SVR\n",
    "from sklearn.preprocessing import StandardScaler\n",
    "from sklearn.linear_model import LinearRegression\n",
    "\n",
    "from sklearn.metrics import mean_squared_error, r2_score\n",
    "from math import sqrt\n",
    "import tensorflow as tf\n",
    "import os\n",
    "\n",
    "from sklearn.model_selection import train_test_split\n"
   ]
  },
  {
   "cell_type": "code",
   "execution_count": 2,
   "id": "233b2d26",
   "metadata": {},
   "outputs": [],
   "source": [
    "# data                                                            Shape\n",
    "\n",
    "hyperberlinnn = loadmat('hyperberlinnn.mat')                      \n",
    "ch_data = hyperberlinnn['InputImage1D']                     #(90000*114)\n",
    "ch_result = hyperberlinnn['GroundTruthImage1D']             #(90000*1)\n",
    "Tr_data = hyperberlinnn['Train']                            #(300*300)\n",
    "Tr_result = hyperberlinnn['Train1D']                        #(90000*1)\n",
    "groundTruth = hyperberlinnn['GroundTruth']"
   ]
  },
  {
   "cell_type": "code",
   "execution_count": 3,
   "id": "d1943479",
   "metadata": {},
   "outputs": [
    {
     "name": "stdout",
     "output_type": "stream",
     "text": [
      "(62999, 114) (27000, 114) (62999, 1) (27000, 1)\n"
     ]
    }
   ],
   "source": [
    "# Standardization\n",
    "# Split into train (2/3) and test (1/3) sets\n",
    "\n",
    "from sklearn.preprocessing import StandardScaler, MinMaxScaler\n",
    "from sklearn.model_selection import train_test_split\n",
    "\n",
    "image1 = StandardScaler().fit_transform(ch_data)\n",
    "image2 = StandardScaler().fit_transform(ch_result)\n",
    "X_train, X_test, y_train, y_test = train_test_split(image1 , image2 , test_size = 0.30 , train_size = 0.70 , random_state = 42)\n",
    "print(np.shape(X_train),np.shape(X_test),np.shape(y_train),np.shape(y_test))\n",
    "\n"
   ]
  },
  {
   "cell_type": "code",
   "execution_count": 4,
   "id": "0bfa6a75",
   "metadata": {},
   "outputs": [],
   "source": [
    "# Correlation base Feature Selection\n",
    "\n",
    "threshold = 0.0008\n",
    "\n",
    "def Correlation_base_Feature_Selection(dataset, threshold):\n",
    "    nBand = dataset.shape[1]\n",
    "    \n",
    "    corr = np.corrcoef(dataset.T) \n",
    "    diff = 1 - corr\n",
    "    \n",
    "    correlated= np.where(diff < threshold, 0, 1)\n",
    "    np.fill_diagonal(correlated, 1)\n",
    "\n",
    "    # select bands\n",
    "    seleted_bands = np.arange(nBand)[correlated.all(axis=0)]\n",
    "    \n",
    "    return seleted_bands\n",
    "\n",
    "selected_features = Correlation_base_Feature_Selection(X_train, threshold)\n"
   ]
  },
  {
   "cell_type": "code",
   "execution_count": 5,
   "id": "a3b0760b",
   "metadata": {},
   "outputs": [
    {
     "name": "stdout",
     "output_type": "stream",
     "text": [
      "[  5   8   9  16  17  18  19  20  21  59  60  61  62  63 110 113]\n"
     ]
    }
   ],
   "source": [
    "print(selected_features)"
   ]
  },
  {
   "cell_type": "code",
   "execution_count": 6,
   "id": "76112fb0",
   "metadata": {},
   "outputs": [],
   "source": [
    "# linear regression\n",
    "\n",
    "model = LinearRegression().fit(X_train[:, selected_features], y_train)\n",
    "pred_Ch = model.predict(X_test[:, selected_features])\n",
    "pred_Tr = model.predict(X_train[:, selected_features])\n"
   ]
  },
  {
   "cell_type": "code",
   "execution_count": 7,
   "id": "64aaad94",
   "metadata": {},
   "outputs": [
    {
     "name": "stdout",
     "output_type": "stream",
     "text": [
      "RMSE Check = 0.527235604774936\n",
      "R2 Check = 0.723089866336139\n",
      "RMSE Train = 0.5287853068293276\n",
      "R2 Train = 0.7199266828310975\n"
     ]
    }
   ],
   "source": [
    "# Evaluating the Algorithm\n",
    "\n",
    "\n",
    "RMSE_Ch = sqrt(mean_squared_error(y_test,pred_Ch))                               #calculate RMSE\n",
    "R2_Ch = r2_score(y_test,pred_Ch)                                                 #calculate R2\n",
    "print('RMSE Check =', RMSE_Ch)\n",
    "print('R2 Check =', R2_Ch)\n",
    "\n",
    "RMSE_Tr = sqrt(mean_squared_error(y_train,pred_Tr))                               #calculate RMSE\n",
    "R2_Tr = r2_score(y_train,pred_Tr)                                                 #calculate R2 \n",
    "print('RMSE Train =', RMSE_Tr)\n",
    "print('R2 Train =', R2_Tr)\n"
   ]
  },
  {
   "cell_type": "code",
   "execution_count": 8,
   "id": "9ba15f6c",
   "metadata": {},
   "outputs": [
    {
     "data": {
      "image/png": "[encoded data removed]",
      "text/plain": [
       "<Figure size 432x288 with 1 Axes>"
      ]
     },
     "metadata": {
      "needs_background": "light"
     },
     "output_type": "display_data"
    }
   ],
   "source": [
    "# Plot\n",
    "\n",
    "import matplotlib.pyplot as plt\n",
    "import matplotlib.lines as mlines\n",
    "import matplotlib.transforms as mtransforms\n",
    "from sklearn import metrics\n",
    "import sklearn.metrics, math\n",
    "from sklearn.metrics import r2_score\n",
    "\n",
    "\n",
    "fig, ax = plt.subplots()\n",
    "ax.scatter(y_test, pred_Ch , c='black')\n",
    "line = mlines.Line2D([0, 1], [0, 1], color='red')\n",
    "transform = ax.transAxes\n",
    "line.set_transform(transform)\n",
    "ax.add_line(line)\n",
    "\n",
    "R2_score=r2_score(y_test, pred_Ch)\n",
    "\n",
    "\n",
    "plt.text(-2,2,'RMSE = {:.3f}'.format(RMSE_Ch))\n",
    "plt.text(-2,1.5,'R2  = {:.3f}'.format(R2_Ch))\n",
    "plt.ylabel(\"predict\")\n",
    "plt.xlabel(\"Cheking result\")\n",
    "plt.grid()\n",
    "plt.show()"
   ]
  },
  {
   "cell_type": "code",
   "execution_count": 9,
   "id": "fcb350e2",
   "metadata": {},
   "outputs": [
    {
     "data": {
      "image/png": "[encoded data removed]",
      "text/plain": [
       "<Figure size 432x288 with 1 Axes>"
      ]
     },
     "metadata": {
      "needs_background": "light"
     },
     "output_type": "display_data"
    }
   ],
   "source": [
    "# Plot\n",
    "\n",
    "import matplotlib.pyplot as plt\n",
    "import matplotlib.lines as mlines\n",
    "import matplotlib.transforms as mtransforms\n",
    "from sklearn import metrics\n",
    "import sklearn.metrics, math\n",
    "from sklearn.metrics import r2_score\n",
    "\n",
    "\n",
    "fig, ax = plt.subplots()\n",
    "ax.scatter( y_train, pred_Tr , c='black')\n",
    "line = mlines.Line2D([0, 1], [0, 1], color='red')\n",
    "transform = ax.transAxes\n",
    "line.set_transform(transform)\n",
    "ax.add_line(line)\n",
    "\n",
    "R2_score=r2_score( y_train, pred_Tr )\n",
    "\n",
    "plt.text(-2,2,'RMSE = {:.3f}'.format(RMSE_Tr))\n",
    "plt.text(-2,1.5,'R2  = {:.3f}'.format(R2_Tr))\n",
    "plt.ylabel(\"predict\")\n",
    "plt.xlabel(\"Training result\")\n",
    "plt.grid()\n",
    "plt.show()"
   ]
  },
  {
   "cell_type": "code",
   "execution_count": null,
   "id": "420de198",
   "metadata": {},
   "outputs": [],
   "source": []
  }
 ],
 "metadata": {
  "kernelspec": {
   "display_name": "Python 3",
   "language": "python",
   "name": "python3"
  },
  "language_info": {
   "codemirror_mode": {
    "name": "ipython",
    "version": 3
   },
   "file_extension": ".py",
   "mimetype": "text/x-python",
   "name": "python",
   "nbconvert_exporter": "python",
   "pygments_lexer": "ipython3",
   "version": "3.8.8"
  }
 },
 "nbformat": 4,
 "nbformat_minor": 5
}
