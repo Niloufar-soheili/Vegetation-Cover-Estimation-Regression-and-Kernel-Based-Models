{
 "cells": [
  {
   "cell_type": "code",
   "execution_count": 1,
   "id": "f0fb9fea",
   "metadata": {},
   "outputs": [],
   "source": [
    "#import libraries\n",
    "\n",
    "from sklearn.ensemble import RandomForestRegressor as RFR\n",
    "import numpy as np\n",
    "from scipy.io import loadmat\n",
    "from sklearn.preprocessing import MinMaxScaler\n",
    "from sklearn.metrics import mean_squared_error, r2_score\n",
    "from math import sqrt"
   ]
  },
  {
   "cell_type": "code",
   "execution_count": 2,
   "id": "2b4802a7",
   "metadata": {},
   "outputs": [],
   "source": [
    "# data                                                            Shape\n",
    "\n",
    "hyperberlinnn = loadmat('hyperberlinnn.mat')                      \n",
    "ch_data = hyperberlinnn['InputImage1D']                     #(90000*114)\n",
    "ch_result = hyperberlinnn['GroundTruthImage1D']             #(90000*1)\n",
    "Tr_data = hyperberlinnn['Train']                            #(300*300)\n",
    "Tr_result = hyperberlinnn['Train1D']                        #(90000*1)\n",
    "groundTruth = hyperberlinnn['GroundTruth']"
   ]
  },
  {
   "cell_type": "code",
   "execution_count": 3,
   "id": "2e102782",
   "metadata": {},
   "outputs": [
    {
     "name": "stdout",
     "output_type": "stream",
     "text": [
      "(62999, 114) (27000, 114) (62999, 1) (27000, 1)\n"
     ]
    }
   ],
   "source": [
    "# Train and Test(per class) and standardization\n",
    "\n",
    "from sklearn.preprocessing import StandardScaler, MinMaxScaler\n",
    "from sklearn.model_selection import train_test_split\n",
    "\n",
    "image1 = StandardScaler().fit_transform(ch_data)\n",
    "image2 = StandardScaler().fit_transform(ch_result)\n",
    "\n",
    "\n",
    "X_train, X_test, y_train, y_test = train_test_split(image1 , image2 , test_size = 0.30 , train_size = 0.70 , random_state = 42)\n",
    "\n",
    "print(np.shape(X_train),np.shape(X_test),np.shape(y_train),np.shape(y_test))\n",
    "\n",
    "y_train = np.ravel(y_train)\n",
    "y_test = np.ravel(y_test)\n"
   ]
  },
  {
   "cell_type": "code",
   "execution_count": 4,
   "id": "12a7d1ff",
   "metadata": {},
   "outputs": [],
   "source": [
    "# Fitting RFR regression \n",
    "\n",
    "model = RFR( random_state = 0).fit(X_train ,y_train)\n",
    "pred_Ch = model.predict(X_test)\n",
    "pred_Tr = model.predict(X_train)\n",
    "acc = model.score(X_test, y_test)"
   ]
  },
  {
   "cell_type": "code",
   "execution_count": 5,
   "id": "395892fa",
   "metadata": {},
   "outputs": [
    {
     "name": "stdout",
     "output_type": "stream",
     "text": [
      "0.9299317347607876\n"
     ]
    }
   ],
   "source": [
    "print(acc)"
   ]
  },
  {
   "cell_type": "code",
   "execution_count": 8,
   "id": "900c85d4",
   "metadata": {},
   "outputs": [
    {
     "name": "stdout",
     "output_type": "stream",
     "text": [
      "RMSE_Test = 0.07033831785352107\n",
      "R2_Test = 0.9299317347607876\n",
      "RMSE_Train = 0.009650630280216387\n",
      "R2_Train  = 0.9903335133610859\n"
     ]
    }
   ],
   "source": [
    "\n",
    "RMSE_Test = mean_squared_error(y_test,pred_Ch)\n",
    "R2_Test = r2_score(y_test, pred_Ch)\n",
    "print('RMSE_Test =', RMSE_Test)\n",
    "print('R2_Test =', R2_Test)\n",
    "\n",
    "\n",
    "RMSE_Train = mean_squared_error(y_train,pred_Tr)\n",
    "R2_Train = r2_score(y_train,pred_Tr)\n",
    "print('RMSE_Train =', RMSE_Train)\n",
    "print('R2_Train  =', R2_Train )\n"
   ]
  }
 ],
 "metadata": {
  "kernelspec": {
   "display_name": "Python 3",
   "language": "python",
   "name": "python3"
  },
  "language_info": {
   "codemirror_mode": {
    "name": "ipython",
    "version": 3
   },
   "file_extension": ".py",
   "mimetype": "text/x-python",
   "name": "python",
   "nbconvert_exporter": "python",
   "pygments_lexer": "ipython3",
   "version": "3.8.8"
  }
 },
 "nbformat": 4,
 "nbformat_minor": 5
}
