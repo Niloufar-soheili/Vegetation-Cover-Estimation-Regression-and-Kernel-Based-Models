{
 "cells": [
  {
   "cell_type": "code",
   "execution_count": 1,
   "id": "ac614b99",
   "metadata": {},
   "outputs": [],
   "source": [
    "import numpy as np\n",
    "import pandas as pd\n",
    "import matplotlib.pyplot as plt\n",
    "import seaborn as sns\n",
    "\n",
    "import warnings\n",
    "warnings.filterwarnings('ignore')\n",
    "\n",
    "from scipy.io import loadmat\n",
    "from sklearn.model_selection import train_test_split\n",
    "from sklearn import preprocessing\n",
    "from sklearn.preprocessing import MinMaxScaler\n",
    "from sklearn.svm import SVR\n",
    "from sklearn.preprocessing import StandardScaler\n",
    "from sklearn.linear_model import LinearRegression\n",
    "\n",
    "from sklearn.metrics import mean_squared_error, r2_score\n",
    "from math import sqrt\n",
    "from libsvm.svmutil import svm_train, svm_predict\n",
    "from sklearn.model_selection import RandomizedSearchCV\n",
    "from sklearn.model_selection import GridSearchCV\n"
   ]
  },
  {
   "cell_type": "code",
   "execution_count": 2,
   "id": "7feef92e",
   "metadata": {},
   "outputs": [],
   "source": [
    "# data                                                            Shape\n",
    "\n",
    "hyperberlinnn = loadmat('hyperberlinnn.mat')                      \n",
    "ch_data = hyperberlinnn['InputImage1D']                     #(90000*114)\n",
    "ch_result = hyperberlinnn['GroundTruthImage1D']             #(90000*1)\n",
    "Tr_data = hyperberlinnn['Train']                            #(300*300)\n",
    "Tr_result = hyperberlinnn['Train1D']                        #(90000*1)\n",
    "groundTruth = hyperberlinnn['GroundTruth']"
   ]
  },
  {
   "cell_type": "code",
   "execution_count": 3,
   "id": "3c6cc9e3",
   "metadata": {},
   "outputs": [
    {
     "name": "stdout",
     "output_type": "stream",
     "text": [
      "(62999, 114) (27000, 114) (62999, 1) (27000, 1)\n"
     ]
    }
   ],
   "source": [
    "# Train and Test(per class) and standardization\n",
    "\n",
    "from sklearn.preprocessing import StandardScaler, MinMaxScaler\n",
    "from sklearn.model_selection import train_test_split\n",
    "\n",
    "image1 = StandardScaler().fit_transform(ch_data)\n",
    "image2 = StandardScaler().fit_transform(ch_result)\n",
    "\n",
    "\n",
    "X_train, X_test, y_train, y_test = train_test_split(image1 , image2 , test_size = 0.30 , train_size = 0.70 , random_state = 42)\n",
    "\n",
    "print(np.shape(X_train),np.shape(X_test),np.shape(y_train),np.shape(y_test))\n"
   ]
  },
  {
   "cell_type": "code",
   "execution_count": 4,
   "id": "64dc4071",
   "metadata": {},
   "outputs": [],
   "source": [
    "#correlation base FS\n",
    "#was obtaind in the previous stage of the project\n",
    "\n",
    "selected_features = [  5 ,  8 ,  9 , 16 , 17,  18 , 19,  20 , 21 , 59 , 60 , 61 , 62 , 63 ,110 ,113]\n",
    "\n",
    "X_train = X_train[:,selected_features]\n",
    "X_test = X_test[:,selected_features]"
   ]
  },
  {
   "cell_type": "code",
   "execution_count": 5,
   "id": "6bee8dc3",
   "metadata": {},
   "outputs": [
    {
     "data": {
      "text/plain": [
       "GridSearchCV(cv=2, estimator=SVR(),\n",
       "             param_grid={'C': [0.1, 1, 10], 'epsilon': [0.1, 0.3, 1.5],\n",
       "                         'kernel': ['linear']},\n",
       "             verbose=3)"
      ]
     },
     "execution_count": 5,
     "metadata": {},
     "output_type": "execute_result"
    }
   ],
   "source": [
    "# Fitting SVM regression \n",
    "# kernel Linear\n",
    "\n",
    "my_param_grid = {'C': [0.1,1,10], 'epsilon': [0.1,0.3,1.5], 'kernel': ['linear']} \n",
    "\n",
    "from sklearn.model_selection import GridSearchCV\n",
    "\n",
    "GridSearchCV(estimator=SVR(),param_grid= my_param_grid, refit = True, verbose=3, cv=2 )\n",
    "\n"
   ]
  },
  {
   "cell_type": "code",
   "execution_count": 6,
   "id": "2bbc5384",
   "metadata": {},
   "outputs": [],
   "source": [
    "grid = GridSearchCV(estimator=SVR(),param_grid= my_param_grid, refit = True, verbose=2, cv=2 )\n",
    "# verbose just means the text output describing the process. (the greater the number the more detail you will get).\n"
   ]
  },
  {
   "cell_type": "code",
   "execution_count": 7,
   "id": "ab69d25b",
   "metadata": {},
   "outputs": [
    {
     "name": "stdout",
     "output_type": "stream",
     "text": [
      "Fitting 2 folds for each of 9 candidates, totalling 18 fits\n",
      "[CV] END ..................C=0.1, epsilon=0.1, kernel=linear; total time= 2.2min\n",
      "[CV] END ..................C=0.1, epsilon=0.1, kernel=linear; total time= 1.9min\n",
      "[CV] END ..................C=0.1, epsilon=0.3, kernel=linear; total time= 1.3min\n",
      "[CV] END ..................C=0.1, epsilon=0.3, kernel=linear; total time= 1.4min\n",
      "[CV] END ..................C=0.1, epsilon=1.5, kernel=linear; total time=   0.0s\n",
      "[CV] END ..................C=0.1, epsilon=1.5, kernel=linear; total time=   0.0s\n",
      "[CV] END ....................C=1, epsilon=0.1, kernel=linear; total time= 7.2min\n",
      "[CV] END ....................C=1, epsilon=0.1, kernel=linear; total time= 6.5min\n",
      "[CV] END ....................C=1, epsilon=0.3, kernel=linear; total time= 5.1min\n",
      "[CV] END ....................C=1, epsilon=0.3, kernel=linear; total time= 5.2min\n",
      "[CV] END ....................C=1, epsilon=1.5, kernel=linear; total time=   0.0s\n",
      "[CV] END ....................C=1, epsilon=1.5, kernel=linear; total time=   0.0s\n",
      "[CV] END ...................C=10, epsilon=0.1, kernel=linear; total time=56.9min\n",
      "[CV] END ...................C=10, epsilon=0.1, kernel=linear; total time=50.6min\n",
      "[CV] END ...................C=10, epsilon=0.3, kernel=linear; total time=37.7min\n",
      "[CV] END ...................C=10, epsilon=0.3, kernel=linear; total time=38.2min\n",
      "[CV] END ...................C=10, epsilon=1.5, kernel=linear; total time=   0.0s\n",
      "[CV] END ...................C=10, epsilon=1.5, kernel=linear; total time=   0.0s\n"
     ]
    },
    {
     "data": {
      "text/plain": [
       "GridSearchCV(cv=2, estimator=SVR(),\n",
       "             param_grid={'C': [0.1, 1, 10], 'epsilon': [0.1, 0.3, 1.5],\n",
       "                         'kernel': ['linear']},\n",
       "             verbose=2)"
      ]
     },
     "execution_count": 7,
     "metadata": {},
     "output_type": "execute_result"
    }
   ],
   "source": [
    "grid.fit(X_train,y_train)"
   ]
  },
  {
   "cell_type": "code",
   "execution_count": 8,
   "id": "bf93a1f1",
   "metadata": {},
   "outputs": [
    {
     "data": {
      "text/plain": [
       "{'C': 10, 'epsilon': 0.3, 'kernel': 'linear'}"
      ]
     },
     "execution_count": 8,
     "metadata": {},
     "output_type": "execute_result"
    }
   ],
   "source": [
    "grid.best_params_"
   ]
  },
  {
   "cell_type": "code",
   "execution_count": 9,
   "id": "0cf8f2ca",
   "metadata": {},
   "outputs": [
    {
     "data": {
      "text/plain": [
       "SVR(C=10, epsilon=0.3, kernel='linear')"
      ]
     },
     "execution_count": 9,
     "metadata": {},
     "output_type": "execute_result"
    }
   ],
   "source": [
    "grid.best_estimator_"
   ]
  },
  {
   "cell_type": "code",
   "execution_count": 10,
   "id": "8c62e47f",
   "metadata": {},
   "outputs": [
    {
     "data": {
      "text/plain": [
       "0.7019524058228622"
      ]
     },
     "execution_count": 10,
     "metadata": {},
     "output_type": "execute_result"
    }
   ],
   "source": [
    "grid.score(X_test, y_test)"
   ]
  },
  {
   "cell_type": "code",
   "execution_count": 11,
   "id": "5bc77844",
   "metadata": {},
   "outputs": [
    {
     "name": "stdout",
     "output_type": "stream",
     "text": [
      "0.5478179465209779\n",
      "0.6994024141681644\n",
      "0.5469884003344171\n",
      "0.7019524058228622\n"
     ]
    }
   ],
   "source": [
    "#RMSE & R2 train\n",
    "\n",
    "predict_train= grid.predict(X_train)\n",
    "print(np.sqrt(mean_squared_error(y_train,predict_train)))\n",
    "print(r2_score(y_train,predict_train))\n",
    "\n",
    "#RMSE & R2 trest\n",
    "\n",
    "predict_test= grid.predict(X_test)\n",
    "print(np.sqrt(mean_squared_error(y_test,predict_test))) \n",
    "print(r2_score(y_test, predict_test))"
   ]
  },
  {
   "cell_type": "code",
   "execution_count": null,
   "id": "688b2acd",
   "metadata": {},
   "outputs": [],
   "source": []
  },
  {
   "cell_type": "code",
   "execution_count": null,
   "id": "8e967e67",
   "metadata": {},
   "outputs": [],
   "source": []
  }
 ],
 "metadata": {
  "kernelspec": {
   "display_name": "Python 3",
   "language": "python",
   "name": "python3"
  },
  "language_info": {
   "codemirror_mode": {
    "name": "ipython",
    "version": 3
   },
   "file_extension": ".py",
   "mimetype": "text/x-python",
   "name": "python",
   "nbconvert_exporter": "python",
   "pygments_lexer": "ipython3",
   "version": "3.8.8"
  }
 },
 "nbformat": 4,
 "nbformat_minor": 5
}
