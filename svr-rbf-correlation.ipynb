{
 "cells": [
  {
   "cell_type": "code",
   "execution_count": 1,
   "id": "51a7f187",
   "metadata": {},
   "outputs": [],
   "source": [
    "#Import libraries\n",
    "\n",
    "import numpy as np\n",
    "import pandas as pd\n",
    "import matplotlib.pyplot as plt\n",
    "import seaborn as sns\n",
    "\n",
    "import warnings\n",
    "warnings.filterwarnings('ignore')\n",
    "\n",
    "from scipy.io import loadmat\n",
    "from sklearn.model_selection import train_test_split\n",
    "from sklearn import preprocessing\n",
    "from sklearn.preprocessing import MinMaxScaler\n",
    "from sklearn.svm import SVR\n",
    "from sklearn.preprocessing import StandardScaler\n",
    "from sklearn.linear_model import LinearRegression\n",
    "\n",
    "from sklearn.metrics import mean_squared_error, r2_score\n",
    "from math import sqrt\n",
    "from libsvm.svmutil import svm_train, svm_predict\n",
    "\n",
    "from sklearn.model_selection import RandomizedSearchCV\n",
    "from sklearn.model_selection import GridSearchCV"
   ]
  },
  {
   "cell_type": "code",
   "execution_count": 2,
   "id": "dd9e1e60",
   "metadata": {},
   "outputs": [],
   "source": [
    "# data                                                            Shape\n",
    "\n",
    "hyperberlinnn = loadmat('hyperberlinnn.mat')                      \n",
    "ch_data = hyperberlinnn['InputImage1D']                     #(90000*114)\n",
    "ch_result = hyperberlinnn['GroundTruthImage1D']             #(90000*1)\n",
    "Tr_data = hyperberlinnn['Train']                            #(300*300)\n",
    "Tr_result = hyperberlinnn['Train1D']                        #(90000*1)\n",
    "groundTruth = hyperberlinnn['GroundTruth']"
   ]
  },
  {
   "cell_type": "code",
   "execution_count": 3,
   "id": "1fb599a7",
   "metadata": {},
   "outputs": [
    {
     "name": "stdout",
     "output_type": "stream",
     "text": [
      "(62999, 114) (27000, 114) (62999, 1) (27000, 1)\n"
     ]
    }
   ],
   "source": [
    "# Train and Test(per class) and standardization\n",
    "\n",
    "from sklearn.preprocessing import StandardScaler, MinMaxScaler\n",
    "from sklearn.model_selection import train_test_split\n",
    "\n",
    "image1 = StandardScaler().fit_transform(ch_data)\n",
    "image2 = StandardScaler().fit_transform(ch_result)\n",
    "\n",
    "\n",
    "X_train, X_test, y_train, y_test = train_test_split(image1 , image2 , test_size = 0.30 , train_size = 0.70 , random_state = 42)\n",
    "\n",
    "print(np.shape(X_train),np.shape(X_test),np.shape(y_train),np.shape(y_test))\n"
   ]
  },
  {
   "cell_type": "code",
   "execution_count": 4,
   "id": "7a64fa75",
   "metadata": {},
   "outputs": [],
   "source": [
    "selected_features = [  5 ,  8 ,  9 , 16 , 17,  18 , 19,  20 , 21 , 59 , 60 , 61 , 62 , 63 ,110 ,113]"
   ]
  },
  {
   "cell_type": "code",
   "execution_count": 5,
   "id": "b154dd21",
   "metadata": {},
   "outputs": [],
   "source": [
    "X_train = X_train[:,selected_features]\n",
    "X_test = X_test[:,selected_features]"
   ]
  },
  {
   "cell_type": "code",
   "execution_count": 6,
   "id": "86691aba",
   "metadata": {},
   "outputs": [
    {
     "data": {
      "text/plain": [
       "GridSearchCV(cv=2, estimator=SVR(),\n",
       "             param_grid={'C': [1, 10, 30], 'gamma': [1, 0.1, 0.01],\n",
       "                         'kernel': ['rbf']},\n",
       "             verbose=3)"
      ]
     },
     "execution_count": 6,
     "metadata": {},
     "output_type": "execute_result"
    }
   ],
   "source": [
    "# Fitting SVM regression \n",
    "# kernel rbf\n",
    "\n",
    "my_param_grid = {'C': [1,10,30], 'gamma': [1,0.1,0.01], 'kernel': ['rbf']} \n",
    "\n",
    "from sklearn.model_selection import GridSearchCV\n",
    "\n",
    "GridSearchCV(estimator=SVR(),param_grid= my_param_grid, refit = True, verbose=3, cv=2 )\n",
    "\n"
   ]
  },
  {
   "cell_type": "code",
   "execution_count": 7,
   "id": "b764878e",
   "metadata": {},
   "outputs": [],
   "source": [
    "grid = GridSearchCV(estimator=SVR(),param_grid= my_param_grid, refit = True, verbose=2, cv=2 )\n",
    "# verbose just means the text output describing the process. (the greater the number the more detail you will get)."
   ]
  },
  {
   "cell_type": "code",
   "execution_count": 8,
   "id": "e42ee2e5",
   "metadata": {},
   "outputs": [
    {
     "name": "stdout",
     "output_type": "stream",
     "text": [
      "Fitting 2 folds for each of 9 candidates, totalling 18 fits\n",
      "[CV] END ...........................C=1, gamma=1, kernel=rbf; total time= 1.6min\n",
      "[CV] END ...........................C=1, gamma=1, kernel=rbf; total time= 1.9min\n",
      "[CV] END .........................C=1, gamma=0.1, kernel=rbf; total time= 1.3min\n",
      "[CV] END .........................C=1, gamma=0.1, kernel=rbf; total time= 1.2min\n",
      "[CV] END ........................C=1, gamma=0.01, kernel=rbf; total time= 1.4min\n",
      "[CV] END ........................C=1, gamma=0.01, kernel=rbf; total time= 1.4min\n",
      "[CV] END ..........................C=10, gamma=1, kernel=rbf; total time= 3.8min\n",
      "[CV] END ..........................C=10, gamma=1, kernel=rbf; total time= 4.0min\n",
      "[CV] END ........................C=10, gamma=0.1, kernel=rbf; total time= 1.4min\n",
      "[CV] END ........................C=10, gamma=0.1, kernel=rbf; total time= 1.4min\n",
      "[CV] END .......................C=10, gamma=0.01, kernel=rbf; total time= 1.4min\n",
      "[CV] END .......................C=10, gamma=0.01, kernel=rbf; total time= 1.4min\n",
      "[CV] END ..........................C=30, gamma=1, kernel=rbf; total time=10.4min\n",
      "[CV] END ..........................C=30, gamma=1, kernel=rbf; total time=11.1min\n",
      "[CV] END ........................C=30, gamma=0.1, kernel=rbf; total time= 2.1min\n",
      "[CV] END ........................C=30, gamma=0.1, kernel=rbf; total time= 1.7min\n",
      "[CV] END .......................C=30, gamma=0.01, kernel=rbf; total time= 1.5min\n",
      "[CV] END .......................C=30, gamma=0.01, kernel=rbf; total time= 1.8min\n"
     ]
    },
    {
     "data": {
      "text/plain": [
       "GridSearchCV(cv=2, estimator=SVR(),\n",
       "             param_grid={'C': [1, 10, 30], 'gamma': [1, 0.1, 0.01],\n",
       "                         'kernel': ['rbf']},\n",
       "             verbose=2)"
      ]
     },
     "execution_count": 8,
     "metadata": {},
     "output_type": "execute_result"
    }
   ],
   "source": [
    "grid.fit(X_train,y_train)"
   ]
  },
  {
   "cell_type": "code",
   "execution_count": 9,
   "id": "9bb8cd02",
   "metadata": {},
   "outputs": [
    {
     "data": {
      "text/plain": [
       "{'C': 10, 'gamma': 1, 'kernel': 'rbf'}"
      ]
     },
     "execution_count": 9,
     "metadata": {},
     "output_type": "execute_result"
    }
   ],
   "source": [
    "grid.best_params_"
   ]
  },
  {
   "cell_type": "code",
   "execution_count": 10,
   "id": "9b3c651b",
   "metadata": {},
   "outputs": [
    {
     "data": {
      "text/plain": [
       "SVR(C=10, gamma=1)"
      ]
     },
     "execution_count": 10,
     "metadata": {},
     "output_type": "execute_result"
    }
   ],
   "source": [
    "grid.best_estimator_"
   ]
  },
  {
   "cell_type": "code",
   "execution_count": 11,
   "id": "09e12257",
   "metadata": {},
   "outputs": [
    {
     "data": {
      "text/plain": [
       "0.9302433861089435"
      ]
     },
     "execution_count": 11,
     "metadata": {},
     "output_type": "execute_result"
    }
   ],
   "source": [
    "grid.score(X_test, y_test)"
   ]
  },
  {
   "cell_type": "code",
   "execution_count": 12,
   "id": "ce64408f",
   "metadata": {},
   "outputs": [
    {
     "name": "stdout",
     "output_type": "stream",
     "text": [
      "0.23069386440160602\n",
      "0.9466928989698278\n",
      "0.2646232517348501\n",
      "0.9302433861089435\n"
     ]
    }
   ],
   "source": [
    "#RMSE & R2\n",
    "\n",
    "predict_train= grid.predict(X_train)\n",
    "print(np.sqrt(mean_squared_error(y_train,predict_train)))\n",
    "print(r2_score(y_train,predict_train))\n",
    "\n",
    "\n",
    "predict_test= grid.predict(X_test)\n",
    "print(np.sqrt(mean_squared_error(y_test,predict_test))) \n",
    "print(r2_score(y_test, predict_test))"
   ]
  },
  {
   "cell_type": "code",
   "execution_count": null,
   "id": "02f139a2",
   "metadata": {},
   "outputs": [],
   "source": []
  }
 ],
 "metadata": {
  "kernelspec": {
   "display_name": "Python 3",
   "language": "python",
   "name": "python3"
  },
  "language_info": {
   "codemirror_mode": {
    "name": "ipython",
    "version": 3
   },
   "file_extension": ".py",
   "mimetype": "text/x-python",
   "name": "python",
   "nbconvert_exporter": "python",
   "pygments_lexer": "ipython3",
   "version": "3.8.8"
  }
 },
 "nbformat": 4,
 "nbformat_minor": 5
}
