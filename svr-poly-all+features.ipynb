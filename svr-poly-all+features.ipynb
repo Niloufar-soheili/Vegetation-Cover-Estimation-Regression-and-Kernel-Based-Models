{
 "cells": [
  {
   "cell_type": "code",
   "execution_count": 1,
   "metadata": {
    "collapsed": true
   },
   "outputs": [],
   "source": [
    "import numpy as np\n",
    "import pandas as pd\n",
    "import matplotlib.pyplot as plt\n",
    "import seaborn as sns\n",
    "\n",
    "import warnings\n",
    "warnings.filterwarnings('ignore')\n",
    "\n",
    "from scipy.io import loadmat\n",
    "from sklearn.model_selection import train_test_split\n",
    "from sklearn import preprocessing\n",
    "from sklearn.preprocessing import MinMaxScaler\n",
    "from sklearn.svm import SVR\n",
    "from sklearn.preprocessing import StandardScaler\n",
    "from sklearn.linear_model import LinearRegression\n",
    "\n",
    "from sklearn.metrics import mean_squared_error, r2_score\n",
    "from math import sqrt\n",
    "from libsvm.svmutil import svm_train, svm_predict\n",
    "\n",
    "from sklearn.model_selection import RandomizedSearchCV\n",
    "from sklearn.model_selection import GridSearchCV"
   ]
  },
  {
   "cell_type": "code",
   "execution_count": 2,
   "metadata": {
    "collapsed": true
   },
   "outputs": [],
   "source": [
    "# data                                                            Shape\n",
    "\n",
    "hyperberlinnn = loadmat('hyperberlinnn.mat')                      \n",
    "ch_data = hyperberlinnn['InputImage1D']                     #(90000*114)\n",
    "ch_result = hyperberlinnn['GroundTruthImage1D']             #(90000*1)\n",
    "Tr_data = hyperberlinnn['Train']                            #(300*300)\n",
    "Tr_result = hyperberlinnn['Train1D']                        #(90000*1)\n",
    "groundTruth = hyperberlinnn['GroundTruth']"
   ]
  },
  {
   "cell_type": "code",
   "execution_count": 3,
   "metadata": {},
   "outputs": [
    {
     "name": "stdout",
     "output_type": "stream",
     "text": [
      "(62999, 114) (27000, 114) (62999, 1) (27000, 1)\n"
     ]
    }
   ],
   "source": [
    "# Train and Test(per class) and standardization\n",
    "\n",
    "from sklearn.preprocessing import StandardScaler, MinMaxScaler\n",
    "from sklearn.model_selection import train_test_split\n",
    "\n",
    "image1 = StandardScaler().fit_transform(ch_data)\n",
    "image2 = StandardScaler().fit_transform(ch_result)\n",
    "\n",
    "X_train, X_test, y_train, y_test = train_test_split(image1 , image2 , test_size = 0.30 , train_size = 0.70 , random_state = 42)\n",
    "print(np.shape(X_train),np.shape(X_test),np.shape(y_train),np.shape(y_test))\n",
    "\n",
    "y_train = np.ravel(y_train)\n",
    "y_test = np.ravel(y_test)"
   ]
  },
  {
   "cell_type": "code",
   "execution_count": 4,
   "metadata": {},
   "outputs": [
    {
     "data": {
      "text/plain": [
       "GridSearchCV(cv=2, error_score='raise',\n",
       "       estimator=SVR(C=1.0, cache_size=200, coef0=0.0, degree=3, epsilon=0.1, gamma='auto',\n",
       "  kernel='rbf', max_iter=-1, shrinking=True, tol=0.001, verbose=False),\n",
       "       fit_params={}, iid=True, n_jobs=1,\n",
       "       param_grid={'C': [1], 'epsilon': [0.1], 'gamma': [0.1], 'kernel': ['poly'], 'degree': [2]},\n",
       "       pre_dispatch='2*n_jobs', refit=True, return_train_score=True,\n",
       "       scoring=None, verbose=3)"
      ]
     },
     "execution_count": 4,
     "metadata": {},
     "output_type": "execute_result"
    }
   ],
   "source": [
    "# Fitting SVM regression \n",
    "# kernel poly\n",
    "\n",
    "my_param_grid = {'C': [1], 'epsilon': [0.1], 'gamma': [0.1] ,'kernel': ['poly'],'degree':[2] } \n",
    "\n",
    "from sklearn.model_selection import GridSearchCV\n",
    "\n",
    "GridSearchCV(estimator=SVR(),param_grid= my_param_grid, refit = True, verbose=3, cv=2 )\n"
   ]
  },
  {
   "cell_type": "code",
   "execution_count": null,
   "metadata": {
    "collapsed": true
   },
   "outputs": [],
   "source": [
    "grid = GridSearchCV(estimator=SVR(),param_grid= my_param_grid, refit = True, verbose=2, cv=2 )\n",
    "# verbose just means the text output describing the process. (the greater the number the more detail you will get).\n"
   ]
  },
  {
   "cell_type": "code",
   "execution_count": null,
   "metadata": {},
   "outputs": [
    {
     "name": "stdout",
     "output_type": "stream",
     "text": [
      "Fitting 2 folds for each of 1 candidates, totalling 2 fits\n",
      "[CV] C=1, degree=2, epsilon=0.1, gamma=0.1, kernel=poly ..............\n",
      "[CV]  C=1, degree=2, epsilon=0.1, gamma=0.1, kernel=poly, total=44.3min\n",
      "[CV] C=1, degree=2, epsilon=0.1, gamma=0.1, kernel=poly ..............\n"
     ]
    },
    {
     "name": "stderr",
     "output_type": "stream",
     "text": [
      "[Parallel(n_jobs=1)]: Done   1 out of   1 | elapsed: 45.1min remaining:    0.0s\n"
     ]
    },
    {
     "name": "stdout",
     "output_type": "stream",
     "text": [
      "[CV]  C=1, degree=2, epsilon=0.1, gamma=0.1, kernel=poly, total=37.9min\n"
     ]
    },
    {
     "name": "stderr",
     "output_type": "stream",
     "text": [
      "[Parallel(n_jobs=1)]: Done   2 out of   2 | elapsed: 83.9min finished\n"
     ]
    }
   ],
   "source": [
    "grid.fit(X_train,y_train)"
   ]
  },
  {
   "cell_type": "code",
   "execution_count": null,
   "metadata": {
    "collapsed": true
   },
   "outputs": [],
   "source": [
    "#RMSE & R2 train\n",
    "\n",
    "predict_train= grid.predict(X_train)\n",
    "print(np.sqrt(mean_squared_error(y_train,predict_train)))\n",
    "print(r2_score(y_train,predict_train))"
   ]
  },
  {
   "cell_type": "code",
   "execution_count": null,
   "metadata": {
    "collapsed": true
   },
   "outputs": [],
   "source": [
    "#RMSE & R2 train\n",
    "predict_test= grid.predict(X_test)\n",
    "print(np.sqrt(mean_squared_error(y_test,predict_test))) \n",
    "print(r2_score(y_test, predict_test))"
   ]
  },
  {
   "cell_type": "code",
   "execution_count": null,
   "metadata": {
    "collapsed": true
   },
   "outputs": [],
   "source": []
  }
 ],
 "metadata": {
  "kernelspec": {
   "display_name": "Python 3",
   "language": "python",
   "name": "python3"
  },
  "language_info": {
   "codemirror_mode": {
    "name": "ipython",
    "version": 3
   },
   "file_extension": ".py",
   "mimetype": "text/x-python",
   "name": "python",
   "nbconvert_exporter": "python",
   "pygments_lexer": "ipython3",
   "version": "3.6.1"
  }
 },
 "nbformat": 4,
 "nbformat_minor": 2
}
